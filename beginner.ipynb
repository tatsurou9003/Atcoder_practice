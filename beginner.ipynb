{
 "cells": [
  {
   "cell_type": "code",
   "execution_count": null,
   "id": "2f1e624a-7520-4a1d-9351-3a7efbf675ec",
   "metadata": {},
   "outputs": [],
   "source": [
    "# 例題1\n",
    "A, B = map(int, input().split())\n",
    "print(A*B)\n"
   ]
  },
  {
   "cell_type": "code",
   "execution_count": 1,
   "id": "5986d031-c78a-40dc-a115-339a3e73142b",
   "metadata": {},
   "outputs": [
    {
     "name": "stdin",
     "output_type": "stream",
     "text": [
      " 2 4\n"
     ]
    },
    {
     "name": "stdout",
     "output_type": "stream",
     "text": [
      "even\n"
     ]
    }
   ],
   "source": [
    "# 例題2\n",
    "a, b = map(int, input().split())\n",
    "c = a*b\n",
    "if c%2 == 0:\n",
    "    print(\"even\")\n",
    "else:\n",
    "    print(\"odd\")\n",
    "   "
   ]
  },
  {
   "cell_type": "code",
   "execution_count": 3,
   "id": "6a422fae-f597-4fda-9a84-26fe2e39c753",
   "metadata": {},
   "outputs": [
    {
     "name": "stdin",
     "output_type": "stream",
     "text": [
      " 5\n"
     ]
    },
    {
     "name": "stdout",
     "output_type": "stream",
     "text": [
      "1\n",
      "2\n",
      "Fizz\n",
      "4\n",
      "Buzz\n"
     ]
    }
   ],
   "source": [
    "# Fizz Buzz\n",
    "N = int(input())\n",
    "for n in range(1, N + 1):\n",
    "    if n % 3 == 0 and n % 5 == 0:\n",
    "        print(\"FizzBuzz\")\n",
    "    elif n % 3 == 0:\n",
    "        print(\"Fizz\")\n",
    "    elif n % 5 == 0:\n",
    "        print(\"Buzz\")\n",
    "    else:\n",
    "        print(n) \n",
    "    "
   ]
  },
  {
   "cell_type": "code",
   "execution_count": 4,
   "id": "87a6f21e-a8de-4f1e-aa1c-2743c2a563cf",
   "metadata": {},
   "outputs": [
    {
     "name": "stdin",
     "output_type": "stream",
     "text": [
      " 10 3\n"
     ]
    },
    {
     "name": "stdout",
     "output_type": "stream",
     "text": [
      "4\n"
     ]
    }
   ],
   "source": [
    "# 例題3\n",
    "H, A = map(int, input().split())\n",
    "if H % A == 0:\n",
    "    print(H // A)\n",
    "else:\n",
    "    print(H // A + 1) \n"
   ]
  },
  {
   "cell_type": "code",
   "execution_count": 5,
   "id": "b6871af1-9474-4a78-8468-058c4796600d",
   "metadata": {},
   "outputs": [
    {
     "name": "stdin",
     "output_type": "stream",
     "text": [
      " 10 3\n"
     ]
    },
    {
     "name": "stdout",
     "output_type": "stream",
     "text": [
      "4\n"
     ]
    }
   ],
   "source": [
    "H, A = map(int, input().split())\n",
    "counter = 0\n",
    "while H > 0:\n",
    "    H -= A\n",
    "    counter += 1\n",
    "print(counter) \n"
   ]
  },
  {
   "cell_type": "code",
   "execution_count": 5,
   "id": "ae417a1e-041b-485c-b612-363eacf9b493",
   "metadata": {},
   "outputs": [
    {
     "name": "stdin",
     "output_type": "stream",
     "text": [
      " 7\n",
      " 500 600\n"
     ]
    },
    {
     "name": "stdout",
     "output_type": "stream",
     "text": [
      "OK\n"
     ]
    }
   ],
   "source": [
    "# 例題4\n",
    "K = int(input())\n",
    "A, B = map(int, input().split())\n",
    "\n",
    "# フラグ\n",
    "exist = False\n",
    "\n",
    "for i in range(A, B + 1):\n",
    "    if i % K == 0: \n",
    "        exist = True\n",
    "        \n",
    "print(\"OK\" if exist else \"NG\")\n"
   ]
  },
  {
   "cell_type": "code",
   "execution_count": 2,
   "id": "90801fa5-46d4-4d8d-bf2f-2379c893b8eb",
   "metadata": {},
   "outputs": [
    {
     "name": "stdin",
     "output_type": "stream",
     "text": [
      " 14 2 4\n"
     ]
    },
    {
     "name": "stdout",
     "output_type": "stream",
     "text": [
      "45\n"
     ]
    }
   ],
   "source": [
    "# 例題5\n",
    "\n",
    "def calc_sum_digits(n):\n",
    "    sum_digits = 0\n",
    "    while n > 0:\n",
    "        sum_digits += n%10\n",
    "        n //= 10\n",
    "    return sum_digits\n",
    "\n",
    "N, A, B = map(int, input().split())\n",
    "\n",
    "result = 0\n",
    "\n",
    "for i in range(1, N+1):\n",
    "    if A <= calc_sum_digits(i) <= B:\n",
    "        result += i\n",
    "        \n",
    "print(result)\n"
   ]
  },
  {
   "cell_type": "code",
   "execution_count": 1,
   "id": "53d3beea-60df-4a33-8baa-d75dd1a819bd",
   "metadata": {},
   "outputs": [
    {
     "name": "stdout",
     "output_type": "stream",
     "text": [
      "pgctf{d3c0d3_7h15_m355463}\n"
     ]
    }
   ],
   "source": [
    "import random\n",
    "from string import ascii_letters, digits\n",
    "\n",
    "def decode(r: str) -> str:\n",
    "    random.seed(len(r))\n",
    "    t1 = f\"{ascii_letters}{digits}_{{}}\"\n",
    "    t2 =  ''.join(random.sample(t1, len(t1)))\n",
    "    return ''.join(map(lambda s: t1[t2.find(s)], list(r)))\n",
    "\n",
    "# \"kiB{dTMFBLMFhlX42hRF22ZwFS\" を復号化する\n",
    "encrypted = \"kiB{dTMFBLMFhlX42hRF22ZwFS\"\n",
    "decrypted = decode(encrypted)\n",
    "print(decrypted)  # 元の文字列が表示されるはず"
   ]
  },
  {
   "cell_type": "code",
   "execution_count": 17,
   "id": "f0c73c7e-bef9-48ba-a450-6aede647f808",
   "metadata": {},
   "outputs": [
    {
     "name": "stdin",
     "output_type": "stream",
     "text": [
      " 3\n",
      " 8 12 40\n"
     ]
    },
    {
     "name": "stdout",
     "output_type": "stream",
     "text": [
      "2\n"
     ]
    }
   ],
   "source": [
    "# 例題6\n",
    "N = int(input())                       \n",
    "A = list(map(int, input().split()))  \n",
    "\n",
    "counter = 0 \n",
    "\n",
    "while True:\n",
    "    can_do = True\n",
    "    for i in range(N):\n",
    "        if A[i] % 2 == 1:\n",
    "           can_do = False\n",
    "   \n",
    "    if not can_do:\n",
    "        break\n",
    "    \n",
    "    for i in range(N):\n",
    "        A[i] //= 2\n",
    "    \n",
    "    counter += 1\n",
    "    \n",
    "print(counter)\n"
   ]
  },
  {
   "cell_type": "code",
   "execution_count": 19,
   "id": "677a560e-2047-4fe7-971a-ac08ad7c95bc",
   "metadata": {},
   "outputs": [
    {
     "name": "stdin",
     "output_type": "stream",
     "text": [
      " 3\n",
      " 8 12 40\n"
     ]
    },
    {
     "name": "stdout",
     "output_type": "stream",
     "text": [
      "2\n"
     ]
    }
   ],
   "source": [
    "# 例題6別解\n",
    "def how_many_times(num):\n",
    "    counter = 0\n",
    "    \n",
    "    while num % 2 == 0:\n",
    "        num //= 2\n",
    "        \n",
    "        counter += 1\n",
    "    return counter\n",
    "\n",
    "INF = 2 ** 30\n",
    "\n",
    "N = int(input())\n",
    "A = list(map(int, input().split()))\n",
    "\n",
    "result = INF\n",
    "\n",
    "for a in A:\n",
    "    counter = how_many_times(a)\n",
    "    result = min(result, counter)\n",
    "# result = min(map(how_many_times, A))でも可\n",
    "print(result)\n"
   ]
  },
  {
   "cell_type": "code",
   "execution_count": 20,
   "id": "c18b1ef0-1962-42d1-9a31-b60438603f12",
   "metadata": {},
   "outputs": [
    {
     "name": "stdin",
     "output_type": "stream",
     "text": [
      " 3\n",
      " 2 7 4\n"
     ]
    },
    {
     "name": "stdout",
     "output_type": "stream",
     "text": [
      "5\n"
     ]
    }
   ],
   "source": [
    "# 例題7\n",
    "N = int(input())\n",
    "a = list(map(int, input().split()))\n",
    "\n",
    "a.sort(reverse=True)\n",
    "\n",
    "result = 0\n",
    "\n",
    "for i in range(N):\n",
    "    if i % 2 == 0:\n",
    "        result += a[i]\n",
    "    else:\n",
    "        result -= a[i]\n",
    "\n",
    "print(result)\n"
   ]
  },
  {
   "cell_type": "code",
   "execution_count": 14,
   "id": "2413b323-cd21-480d-8242-c968181a5e0c",
   "metadata": {},
   "outputs": [
    {
     "name": "stdin",
     "output_type": "stream",
     "text": [
      " AtCoder\n"
     ]
    },
    {
     "name": "stdout",
     "output_type": "stream",
     "text": [
      "AC\n"
     ]
    }
   ],
   "source": [
    "#　例題8\n",
    "def is_AC(S):\n",
    "    \n",
    "    if S[0] != \"A\":\n",
    "        return False\n",
    "    \n",
    "    if S[2:-1].count(\"C\") != 1:\n",
    "        return False\n",
    "    \n",
    "    if sum(map(str.isupper, S)) != 2:   # str.isupperを各文字に使う？\n",
    "        return False\n",
    "    \n",
    "    return True\n",
    "\n",
    "print(\"AC\" if is_AC(input()) else \"WA\")\n",
    "    "
   ]
  },
  {
   "cell_type": "code",
   "execution_count": null,
   "id": "479bf40e-d8bc-4fb6-8d72-a651e96e954f",
   "metadata": {},
   "outputs": [],
   "source": [
    "# "
   ]
  }
 ],
 "metadata": {
  "kernelspec": {
   "display_name": "Python 3 (ipykernel)",
   "language": "python",
   "name": "python3"
  },
  "language_info": {
   "codemirror_mode": {
    "name": "ipython",
    "version": 3
   },
   "file_extension": ".py",
   "mimetype": "text/x-python",
   "name": "python",
   "nbconvert_exporter": "python",
   "pygments_lexer": "ipython3",
   "version": "3.9.11"
  },
  "toc-showcode": false
 },
 "nbformat": 4,
 "nbformat_minor": 5
}
