{
 "cells": [
  {
   "cell_type": "code",
   "execution_count": 1,
   "id": "2f1e624a-7520-4a1d-9351-3a7efbf675ec",
   "metadata": {},
   "outputs": [
    {
     "name": "stdin",
     "output_type": "stream",
     "text": [
      " 2 5\n"
     ]
    },
    {
     "name": "stdout",
     "output_type": "stream",
     "text": [
      "10\n"
     ]
    }
   ],
   "source": [
    "# 例題1\n",
    "A, B = map(int, input().split())\n",
    "print(A*B)\n"
   ]
  },
  {
   "cell_type": "code",
   "execution_count": 1,
   "id": "5986d031-c78a-40dc-a115-339a3e73142b",
   "metadata": {},
   "outputs": [
    {
     "name": "stdin",
     "output_type": "stream",
     "text": [
      " 2 4\n"
     ]
    },
    {
     "name": "stdout",
     "output_type": "stream",
     "text": [
      "even\n"
     ]
    }
   ],
   "source": [
    "# 例題2\n",
    "a, b = map(int, input().split())\n",
    "c = a*b\n",
    "if c%2 == 0:\n",
    "    print(\"even\")\n",
    "else:\n",
    "    print(\"odd\")\n",
    "   "
   ]
  },
  {
   "cell_type": "code",
   "execution_count": 3,
   "id": "6a422fae-f597-4fda-9a84-26fe2e39c753",
   "metadata": {},
   "outputs": [
    {
     "name": "stdin",
     "output_type": "stream",
     "text": [
      " 5\n"
     ]
    },
    {
     "name": "stdout",
     "output_type": "stream",
     "text": [
      "1\n",
      "2\n",
      "Fizz\n",
      "4\n",
      "Buzz\n"
     ]
    }
   ],
   "source": [
    "# Fizz Buzz\n",
    "N = int(input())\n",
    "for n in range(1, N + 1):\n",
    "    if n % 3 == 0 and n % 5 == 0:\n",
    "        print(\"FizzBuzz\")\n",
    "    elif n % 3 == 0:\n",
    "        print(\"Fizz\")\n",
    "    elif n % 5 == 0:\n",
    "        print(\"Buzz\")\n",
    "    else:\n",
    "        print(n) \n",
    "    "
   ]
  },
  {
   "cell_type": "code",
   "execution_count": 4,
   "id": "87a6f21e-a8de-4f1e-aa1c-2743c2a563cf",
   "metadata": {},
   "outputs": [
    {
     "name": "stdin",
     "output_type": "stream",
     "text": [
      " 10 3\n"
     ]
    },
    {
     "name": "stdout",
     "output_type": "stream",
     "text": [
      "4\n"
     ]
    }
   ],
   "source": [
    "# 例題3\n",
    "H, A = map(int, input().split())\n",
    "if H % A == 0:\n",
    "    print(H // A)\n",
    "else:\n",
    "    print(H // A + 1) \n"
   ]
  },
  {
   "cell_type": "code",
   "execution_count": 5,
   "id": "b6871af1-9474-4a78-8468-058c4796600d",
   "metadata": {},
   "outputs": [
    {
     "name": "stdin",
     "output_type": "stream",
     "text": [
      " 10 3\n"
     ]
    },
    {
     "name": "stdout",
     "output_type": "stream",
     "text": [
      "4\n"
     ]
    }
   ],
   "source": [
    "H, A = map(int, input().split())\n",
    "counter = 0\n",
    "while H > 0:\n",
    "    H -= A\n",
    "    counter += 1\n",
    "print(counter) \n"
   ]
  },
  {
   "cell_type": "code",
   "execution_count": 5,
   "id": "ae417a1e-041b-485c-b612-363eacf9b493",
   "metadata": {},
   "outputs": [
    {
     "name": "stdin",
     "output_type": "stream",
     "text": [
      " 7\n",
      " 500 600\n"
     ]
    },
    {
     "name": "stdout",
     "output_type": "stream",
     "text": [
      "OK\n"
     ]
    }
   ],
   "source": [
    "# 例題4\n",
    "K = int(input())\n",
    "A, B = map(int, input().split())\n",
    "\n",
    "# フラグ\n",
    "exist = False\n",
    "\n",
    "for i in range(A, B + 1):\n",
    "    if i % K == 0: \n",
    "        exist = True\n",
    "        \n",
    "print(\"OK\" if exist else \"NG\")\n"
   ]
  }
 ],
 "metadata": {
  "kernelspec": {
   "display_name": "Python 3 (ipykernel)",
   "language": "python",
   "name": "python3"
  },
  "language_info": {
   "codemirror_mode": {
    "name": "ipython",
    "version": 3
   },
   "file_extension": ".py",
   "mimetype": "text/x-python",
   "name": "python",
   "nbconvert_exporter": "python",
   "pygments_lexer": "ipython3",
   "version": "3.9.11"
  },
  "toc-showcode": false
 },
 "nbformat": 4,
 "nbformat_minor": 5
}
