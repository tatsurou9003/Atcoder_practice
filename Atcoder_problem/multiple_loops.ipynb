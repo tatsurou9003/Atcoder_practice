{
 "cells": [
  {
   "cell_type": "code",
   "execution_count": 8,
   "id": "9393e574-995b-4208-87df-9c6f38d00fe7",
   "metadata": {},
   "outputs": [
    {
     "name": "stdin",
     "output_type": "stream",
     "text": [
      " 45\n"
     ]
    },
    {
     "name": "stdout",
     "output_type": "stream",
     "text": [
      "Yes\n"
     ]
    }
   ],
   "source": [
    "# 81\n",
    "\n",
    "N = int(input())\n",
    "\n",
    "result = []\n",
    "for i in range(1, 10):\n",
    "    for j in range(1, 10):\n",
    "        result.append(i*j)\n",
    "\n",
    "if N in result:\n",
    "    print(\"Yes\")\n",
    "else:\n",
    "    print(\"No\")\n"
   ]
  },
  {
   "cell_type": "code",
   "execution_count": 5,
   "id": "0cd23e5a-a96b-4167-8649-d39864b2a266",
   "metadata": {},
   "outputs": [
    {
     "name": "stdin",
     "output_type": "stream",
     "text": [
      " 11\n"
     ]
    },
    {
     "name": "stdout",
     "output_type": "stream",
     "text": [
      "Yes\n"
     ]
    }
   ],
   "source": [
    "# Cakes and Donuts \n",
    "\n",
    "N = int(input())\n",
    "\n",
    "flag = False\n",
    "for i in range(26):\n",
    "    for j in range(15):\n",
    "        if 4*i + 7*j == N:\n",
    "            flag = True\n",
    "            break\n",
    "\n",
    "print(\"Yes\" if flag else \"No\")\n",
    "            "
   ]
  },
  {
   "cell_type": "code",
   "execution_count": 1,
   "id": "9e0a7a0e-634f-4633-9541-3485fda51650",
   "metadata": {},
   "outputs": [
    {
     "name": "stdin",
     "output_type": "stream",
     "text": [
      " 11\n"
     ]
    },
    {
     "name": "stdout",
     "output_type": "stream",
     "text": [
      "Yes\n"
     ]
    }
   ],
   "source": [
    "# 別解\n",
    "\n",
    "N = int(input())\n",
    "\n",
    "min_num_4 = N // 4 # 4を使う必要がある最小の回数を計算\n",
    "for i in range(min_num_4, -1, -1): # 4を使う回数を減らしながらループ\n",
    "    if (N - 4 * i) % 7 == 0: # 残りを7で割り切れるかどうかを確認\n",
    "        print(\"Yes\")\n",
    "        break\n",
    "else:\n",
    "    print(\"No\")"
   ]
  },
  {
   "cell_type": "code",
   "execution_count": 15,
   "id": "cb69e6c3-a514-443e-878e-95fbe91bc8a2",
   "metadata": {},
   "outputs": [
    {
     "name": "stdin",
     "output_type": "stream",
     "text": [
      " 3 2\n",
      " 1 2\n",
      " 5 5\n",
      " -2 8\n"
     ]
    },
    {
     "name": "stdout",
     "output_type": "stream",
     "text": [
      "1\n"
     ]
    }
   ],
   "source": [
    "# Good Distance 難\n",
    "\n",
    "N, D = map(int, input().split())\n",
    "X = [list(map(int, input().split())) for _ in range(N)]\n",
    "\n",
    "ans = 0\n",
    "for i in range(N-1):\n",
    "    for j in range(i+1, N):\n",
    "        dist = 0\n",
    "        for k in range(D):\n",
    "            dist += (X[i][k] - X[j][k]) ** 2\n",
    "        if dist ** 0.5 == int(dist ** 0.5):\n",
    "            ans += 1\n",
    "\n",
    "print(ans)\n",
    "            "
   ]
  },
  {
   "cell_type": "code",
   "execution_count": 26,
   "id": "4e731b9b-e2e1-420e-a4f6-18ea696e7224",
   "metadata": {},
   "outputs": [
    {
     "name": "stdin",
     "output_type": "stream",
     "text": [
      " 5\n",
      " 4 4 5 7 9\n"
     ]
    },
    {
     "name": "stdout",
     "output_type": "stream",
     "text": [
      "5\n"
     ]
    }
   ],
   "source": [
    "# Making Triangle 難\n",
    "\n",
    "N = int(input())\n",
    "L = list(map(int, input().split()))\n",
    "\n",
    "ans = 0\n",
    "L.sort()\n",
    "for i in range(N-2):\n",
    "    for j in range(i+1, N-1):\n",
    "        if L[i] == L[j]:\n",
    "            continue\n",
    "        for k in range(j+1, N):\n",
    "            if L[j] == L[k]:\n",
    "                continue\n",
    "            if L[i] + L[j] > L[k]:\n",
    "                ans += 1\n",
    "print(ans)\n"
   ]
  },
  {
   "cell_type": "code",
   "execution_count": 29,
   "id": "c9814bd2-0d12-452a-a355-dbb10c02c4ce",
   "metadata": {},
   "outputs": [
    {
     "name": "stdin",
     "output_type": "stream",
     "text": [
      " 2 5\n"
     ]
    },
    {
     "name": "stdout",
     "output_type": "stream",
     "text": [
      "10\n"
     ]
    }
   ],
   "source": [
    "# How many?  \n",
    "\n",
    "S, T = list(map(int, input().split()))\n",
    "\n",
    "ans = 0\n",
    "for a in range(S+1):\n",
    "    for b in range(S-a+1):\n",
    "        for  c in range(S-a-b+1):\n",
    "            if a*b*c <= T:\n",
    "                ans += 1\n",
    "print(ans)\n",
    "        "
   ]
  },
  {
   "cell_type": "code",
   "execution_count": 36,
   "id": "f3fdc895-d445-482e-aaa9-bdee80558803",
   "metadata": {},
   "outputs": [
    {
     "name": "stdin",
     "output_type": "stream",
     "text": [
      " cabacc\n",
      " abc\n"
     ]
    },
    {
     "name": "stdout",
     "output_type": "stream",
     "text": [
      "1\n"
     ]
    }
   ],
   "source": [
    "# Substring \n",
    "\n",
    "S = input()\n",
    "T = input()\n",
    "\n",
    "s = len(S)\n",
    "t = len(T)\n",
    "ans = []\n",
    "for i in range(s-t+1):\n",
    "    m = 0\n",
    "    for j in range(t):\n",
    "        if S[i+j] != T[j]:\n",
    "            m += 1\n",
    "    ans.append(m)\n",
    "\n",
    "print(min(ans))\n",
    "        "
   ]
  },
  {
   "cell_type": "code",
   "execution_count": 2,
   "id": "5ca4bdc4-b616-443a-89f9-2320ab8e691c",
   "metadata": {},
   "outputs": [
    {
     "name": "stdin",
     "output_type": "stream",
     "text": [
      " 84 97 66\n",
      " 79 89 11\n",
      " 61 59 7\n",
      " 7\n",
      " 89\n",
      " 7\n",
      " 87\n",
      " 79\n",
      " 24\n",
      " 84\n",
      " 30\n"
     ]
    },
    {
     "name": "stdout",
     "output_type": "stream",
     "text": [
      "Yes\n"
     ]
    }
   ],
   "source": [
    "# Bingo\n",
    "X = list(map(int,input().split()))\n",
    "Y = list(map(int,input().split()))\n",
    "Z = list(map(int,input().split()))\n",
    "N = int(input())\n",
    "b = [int(input()) for _ in range(N)]\n",
    "\n",
    "for i in range(N):\n",
    "    for j in range(3):\n",
    "        if X[j] == b[i]:\n",
    "            X[j] = 0\n",
    "        if Y[j] == b[i]:\n",
    "            Y[j] = 0\n",
    "        if Z[j] == b[i]:\n",
    "            Z[j] = 0\n",
    "\n",
    "bingo = False\n",
    "\n",
    "if max(X) == 0 or max(Y) == 0 or max(Z) == 0:\n",
    "    bingo = True\n",
    "\n",
    "if X[0] == 0 and Y[1] == 0 and Z[2] == 0:\n",
    "    bingo = True\n",
    "\n",
    "if X[2] == 0 and Y[1] == 0 and Z[0] == 0:\n",
    "    bingo = True\n",
    "    \n",
    "for k in range(3):\n",
    "    if X[k] == 0 and Y[k] == 0 and Z[k] == 0:\n",
    "        bingo = True\n",
    "\n",
    "print(\"Yes\" if bingo else \"No\")\n"
   ]
  },
  {
   "cell_type": "code",
   "execution_count": 5,
   "id": "76f9aeef-a798-4964-ad43-405269997e92",
   "metadata": {},
   "outputs": [
    {
     "name": "stdin",
     "output_type": "stream",
     "text": [
      " 3 3\n",
      " ***\n",
      " ...\n",
      " ***\n"
     ]
    },
    {
     "name": "stdout",
     "output_type": "stream",
     "text": [
      "***\n",
      "***\n",
      "...\n",
      "...\n",
      "***\n",
      "***\n"
     ]
    }
   ],
   "source": [
    "# Thin\n",
    "\n",
    "H, W = map(int,input().split())\n",
    "C = [input() for _ in range(H)]\n",
    "\n",
    "for i in C:\n",
    "    print(i)\n",
    "    print(i)\n"
   ]
  },
  {
   "cell_type": "code",
   "execution_count": 18,
   "id": "ee316a5d-8bcb-4fa9-ae82-3321b97c3573",
   "metadata": {},
   "outputs": [
    {
     "name": "stdin",
     "output_type": "stream",
     "text": [
      " 4 4 2 2\n",
      " ##..\n",
      " ...#\n",
      " #.#.\n",
      " .#.#\n"
     ]
    },
    {
     "name": "stdout",
     "output_type": "stream",
     "text": [
      "4\n"
     ]
    }
   ],
   "source": [
    "# Visibility  \n",
    "\n",
    "H, W, X, Y = list(map(int, input().split()))\n",
    "S = [input() for _ in range(H)]\n",
    "X -= 1\n",
    "Y -= 1\n",
    "\n",
    "counter = 1\n",
    "for i in range(1, W):\n",
    "    if Y+i >= W or S[X][Y+i] == \"#\" :\n",
    "        break\n",
    "    if S[X][Y+i] == \".\":\n",
    "        counter += 1\n",
    "\n",
    "for j in range(1, W):\n",
    "    if Y-j < 0 or S[X][Y-j] == \"#\" :\n",
    "        break\n",
    "    if S[X][Y-j] == \".\":\n",
    "        counter += 1\n",
    "\n",
    "for k in range(1, H):\n",
    "    if X+k >= H or S[X+k][Y] == \"#\" :\n",
    "        break\n",
    "    if S[X+k][Y] == \".\":\n",
    "        counter += 1\n",
    "\n",
    "for l in range(1, H):\n",
    "    if X-l < 0 or S[X-l][Y] == \"#\" :\n",
    "        break\n",
    "    if S[X-l][Y] == \".\":\n",
    "        counter += 1 \n",
    "\n",
    "print(counter)\n",
    "         "
   ]
  },
  {
   "cell_type": "code",
   "execution_count": 51,
   "id": "bf126830-0ea9-48c9-b7c3-3509063ed445",
   "metadata": {},
   "outputs": [
    {
     "name": "stdin",
     "output_type": "stream",
     "text": [
      " 4 4\n",
      " ##.#\n",
      " ....\n",
      " ##.#\n",
      " ##.#\n"
     ]
    },
    {
     "name": "stdout",
     "output_type": "stream",
     "text": [
      "###\n",
      "###\n",
      "###\n"
     ]
    }
   ],
   "source": [
    "# Grid Compression \n",
    "\n",
    "H, W =  map(int, input().split())\n",
    "a = [input() for _ in range(H)]\n",
    "\n",
    "row = [False] * H\n",
    "col = [False] * W\n",
    "for i in range(H):\n",
    "    for j in range(W):\n",
    "        if a[i][j] == \"#\":\n",
    "            row[i] = True\n",
    "            col[j] = True\n",
    "\n",
    "for i in range(H): \n",
    "    if row[i]:\n",
    "        for j in range(W): \n",
    "            if col[j]:\n",
    "                print(a[i][j], end = \"\") \n",
    "        print()\n",
    "           "
   ]
  }
 ],
 "metadata": {
  "kernelspec": {
   "display_name": "Python 3 (ipykernel)",
   "language": "python",
   "name": "python3"
  },
  "language_info": {
   "codemirror_mode": {
    "name": "ipython",
    "version": 3
   },
   "file_extension": ".py",
   "mimetype": "text/x-python",
   "name": "python",
   "nbconvert_exporter": "python",
   "pygments_lexer": "ipython3",
   "version": "3.9.11"
  }
 },
 "nbformat": 4,
 "nbformat_minor": 5
}
