{
 "cells": [
  {
   "cell_type": "code",
   "execution_count": 1,
   "id": "ab0e7443-6890-4ce9-8276-3955da251cbd",
   "metadata": {},
   "outputs": [
    {
     "name": "stdin",
     "output_type": "stream",
     "text": [
      " 1500\n"
     ]
    },
    {
     "name": "stdout",
     "output_type": "stream",
     "text": [
      "500\n"
     ]
    }
   ],
   "source": [
    "# Payment\n",
    "\n",
    "N = int(input())\n",
    "result = (10000 - N) % 1000\n",
    "\n",
    "print(result)\n"
   ]
  },
  {
   "cell_type": "code",
   "execution_count": 2,
   "id": "29cc48f3-2b20-4325-b0fc-6c263ce4eae6",
   "metadata": {},
   "outputs": [
    {
     "name": "stdin",
     "output_type": "stream",
     "text": [
      " 5\n"
     ]
    },
    {
     "name": "stdout",
     "output_type": "stream",
     "text": [
      "3\n"
     ]
    }
   ],
   "source": [
    "# Duplex Printing\n",
    "\n",
    "N = int(input())\n",
    "result = (N + 1) // 2\n",
    "\n",
    "print(result)\n"
   ]
  },
  {
   "cell_type": "code",
   "execution_count": 3,
   "id": "aaf53f0e-edbb-434e-b440-8984a8a36a19",
   "metadata": {},
   "outputs": [
    {
     "name": "stdin",
     "output_type": "stream",
     "text": [
      " 95 10 3\n"
     ]
    },
    {
     "name": "stdout",
     "output_type": "stream",
     "text": [
      "30\n"
     ]
    }
   ],
   "source": [
    "# Takoyaki \n",
    "\n",
    "N, X, T = map(int, input().split())\n",
    "times = (N + X - 1) // X  # テクニック（割られる数に割る数-1を足す）\n",
    "result = times * T\n",
    "\n",
    "print(result)\n"
   ]
  },
  {
   "cell_type": "code",
   "execution_count": 4,
   "id": "d9ad54a1-ae3e-4a5a-9a65-e5d3cd84d154",
   "metadata": {},
   "outputs": [
    {
     "name": "stdin",
     "output_type": "stream",
     "text": [
      " 13 3\n"
     ]
    },
    {
     "name": "stdout",
     "output_type": "stream",
     "text": [
      "39\n"
     ]
    }
   ],
   "source": [
    "# -+x \n",
    "\n",
    "A, B = map(int, input().split())\n",
    "\n",
    "addition = A + B\n",
    "subtraction = A - B\n",
    "multiplication = A * B \n",
    "result = max(addition, subtraction, multiplication)\n",
    "\n",
    "print(result)\n"
   ]
  },
  {
   "cell_type": "code",
   "execution_count": 6,
   "id": "d4d013cf-c1bc-4d00-b009-f04e02227320",
   "metadata": {},
   "outputs": [
    {
     "name": "stdin",
     "output_type": "stream",
     "text": [
      " 30 100\n"
     ]
    },
    {
     "name": "stdout",
     "output_type": "stream",
     "text": [
      "100\n"
     ]
    }
   ],
   "source": [
    "# Ferris Wheel\n",
    "\n",
    "A, B = map(int, input().split())\n",
    "\n",
    "if 6 <= A <= 12:\n",
    "     print(B // 2)\n",
    "elif A <= 5:\n",
    "     print(0)\n",
    "else:\n",
    "     print(B)\n",
    "    "
   ]
  },
  {
   "cell_type": "code",
   "execution_count": 7,
   "id": "622912dc-ee11-4a57-9b68-8af320fa53a5",
   "metadata": {},
   "outputs": [
    {
     "name": "stdin",
     "output_type": "stream",
     "text": [
      " 4 12\n"
     ]
    },
    {
     "name": "stdout",
     "output_type": "stream",
     "text": [
      "16\n"
     ]
    }
   ],
   "source": [
    "# B +/- A\n",
    "\n",
    "A, B = map(int, input().split())\n",
    "\n",
    "if B % A == 0: \n",
    "    print(A + B)\n",
    "else:\n",
    "    print(B - A)\n",
    "    "
   ]
  },
  {
   "cell_type": "code",
   "execution_count": 8,
   "id": "c90a4394-a3ee-4231-af63-85ad1faded01",
   "metadata": {},
   "outputs": [
    {
     "name": "stdin",
     "output_type": "stream",
     "text": [
      " 2018\n",
      " 218\n"
     ]
    },
    {
     "name": "stdout",
     "output_type": "stream",
     "text": [
      "Yes\n"
     ]
    }
   ],
   "source": [
    "# Infinite Coins\n",
    "\n",
    "N = int(input())\n",
    "A = int(input())\n",
    "\n",
    "rem = N % 500\n",
    "if rem <= A:\n",
    "    print(\"Yes\")\n",
    "else:\n",
    "    print(\"No\")\n",
    "    "
   ]
  },
  {
   "cell_type": "code",
   "execution_count": 10,
   "id": "8fa90306-62f9-4ac3-93d4-87c9dae8ba89",
   "metadata": {},
   "outputs": [
    {
     "name": "stdin",
     "output_type": "stream",
     "text": [
      " 1234\n",
      " 150\n",
      " 100\n"
     ]
    },
    {
     "name": "stdout",
     "output_type": "stream",
     "text": [
      "84\n"
     ]
    }
   ],
   "source": [
    "# Buying Sweets\n",
    "\n",
    "X = int(input())\n",
    "A = int(input())\n",
    "B = int(input())\n",
    "\n",
    "money = X - A\n",
    "result = money % B\n",
    "\n",
    "print(result)\n"
   ]
  },
  {
   "cell_type": "code",
   "execution_count": 14,
   "id": "19802b30-a43f-4103-a12b-df7e876e47d4",
   "metadata": {},
   "outputs": [
    {
     "name": "stdin",
     "output_type": "stream",
     "text": [
      " 4 3 2\n"
     ]
    },
    {
     "name": "stdout",
     "output_type": "stream",
     "text": [
      "YES\n"
     ]
    }
   ],
   "source": [
    "#  RGB Cards\n",
    "\n",
    "r, g, b = map(int, input().split())\n",
    "\n",
    "number = r * 100 + g * 10 + b\n",
    "result = number % 4\n",
    "if result == 0:\n",
    "    print(\"YES\")\n",
    "else:\n",
    "    print(\"NO\")\n"
   ]
  },
  {
   "cell_type": "code",
   "execution_count": 16,
   "id": "dbbb9d09-55d3-4e68-a4a1-12ec310303fa",
   "metadata": {},
   "outputs": [
    {
     "name": "stdin",
     "output_type": "stream",
     "text": [
      " 1 3\n"
     ]
    },
    {
     "name": "stdout",
     "output_type": "stream",
     "text": [
      "3\n"
     ]
    }
   ],
   "source": [
    "# Apple Pie\n",
    "\n",
    "A, P = map(int, input().split())\n",
    "\n",
    "piece = A * 3 + P\n",
    "pie = piece // 2 \n",
    "\n",
    "print(pie)\n"
   ]
  },
  {
   "cell_type": "code",
   "execution_count": 17,
   "id": "dfb223e0-5509-4eca-8701-fe80d44ed437",
   "metadata": {},
   "outputs": [
    {
     "name": "stdin",
     "output_type": "stream",
     "text": [
      " 3 5 7\n"
     ]
    },
    {
     "name": "stdout",
     "output_type": "stream",
     "text": [
      "10\n"
     ]
    }
   ],
   "source": [
    "# Biscuit Generator\n",
    "\n",
    "A, B, T = map(int, input().split())\n",
    "\n",
    "time = T // A\n",
    "result = time * B\n",
    "\n",
    "print(result)\n"
   ]
  }
 ],
 "metadata": {
  "kernelspec": {
   "display_name": "Python 3 (ipykernel)",
   "language": "python",
   "name": "python3"
  },
  "language_info": {
   "codemirror_mode": {
    "name": "ipython",
    "version": 3
   },
   "file_extension": ".py",
   "mimetype": "text/x-python",
   "name": "python",
   "nbconvert_exporter": "python",
   "pygments_lexer": "ipython3",
   "version": "3.9.11"
  }
 },
 "nbformat": 4,
 "nbformat_minor": 5
}
