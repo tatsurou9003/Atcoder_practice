{
 "cells": [
  {
   "cell_type": "code",
   "execution_count": 6,
   "id": "8e4534dc-deff-45ad-ac2a-c62ac4b6f812",
   "metadata": {},
   "outputs": [
    {
     "name": "stdin",
     "output_type": "stream",
     "text": [
      " Hello,World!\n"
     ]
    },
    {
     "name": "stdout",
     "output_type": "stream",
     "text": [
      "AC\n"
     ]
    }
   ],
   "source": [
    "# Your First Judge\n",
    "\n",
    "S = input()\n",
    "\n",
    "if S == \"Hello,World!\":\n",
    "    print(\"AC\")\n",
    "else:\n",
    "    print(\"WA\")\n"
   ]
  },
  {
   "cell_type": "code",
   "execution_count": 7,
   "id": "4904ae87-74c9-414f-a16e-9caf022de135",
   "metadata": {},
   "outputs": [
    {
     "name": "stdin",
     "output_type": "stream",
     "text": [
      " 3 4\n",
      " 269-6650\n"
     ]
    },
    {
     "name": "stdout",
     "output_type": "stream",
     "text": [
      "Yes\n"
     ]
    }
   ],
   "source": [
    "# Postal Code\n",
    "import re\n",
    "\n",
    "A, B = map(int, input().split())\n",
    "S = input()\n",
    "\n",
    "regex = re.compile(\"\\d\"*A + \"-\" + \"\\d\"*B)\n",
    "flag = regex.search(S)\n",
    "\n",
    "if flag:\n",
    "    print(\"Yes\")\n",
    "else:\n",
    "    print(\"No\")\n"
   ]
  },
  {
   "cell_type": "code",
   "execution_count": 12,
   "id": "a42dd083-65cb-47ad-b04b-4ea09a5fc90c",
   "metadata": {},
   "outputs": [
    {
     "name": "stdin",
     "output_type": "stream",
     "text": [
      " 3\n",
      " ABCXYZ\n"
     ]
    },
    {
     "name": "stdout",
     "output_type": "stream",
     "text": [
      "DEFABC\n"
     ]
    }
   ],
   "source": [
    "# ROT N \n",
    "\n",
    "N = int(input())\n",
    "S = input()\n",
    "\n",
    "result = \"\"\n",
    "for i in S:\n",
    "    sh = (ord(i) - ord(\"A\") + N) % 26  # Aを基準とする\n",
    "    result += chr(sh + ord(\"A\"))\n",
    "\n",
    "print(result)\n",
    "    "
   ]
  },
  {
   "cell_type": "code",
   "execution_count": 14,
   "id": "f3cb4b96-ab00-454b-92f5-1bfa5f6644c8",
   "metadata": {},
   "outputs": [
    {
     "name": "stdin",
     "output_type": "stream",
     "text": [
      " redcoder\n"
     ]
    },
    {
     "name": "stdout",
     "output_type": "stream",
     "text": [
      "1\n"
     ]
    }
   ],
   "source": [
    "# Palindrome-philia \n",
    "\n",
    "S = input()\n",
    "\n",
    "result = 0\n",
    "for i in range(len(S) // 2):\n",
    "    if S[i] != S[-(i+1)]:\n",
    "        result += 1\n",
    "\n",
    "print(result)\n",
    "        "
   ]
  },
  {
   "cell_type": "code",
   "execution_count": 16,
   "id": "b992fcbd-306d-4ceb-810b-6ce98fd46735",
   "metadata": {},
   "outputs": [
    {
     "name": "stdin",
     "output_type": "stream",
     "text": [
      " 2 1 3 4 5 6 7 8 9 10 11 12 13 14 15 16 17 18 19 20 21 22 23 24 25 26\n"
     ]
    },
    {
     "name": "stdout",
     "output_type": "stream",
     "text": [
      "bacdefghijklmnopqrstuvwxyz\n"
     ]
    }
   ],
   "source": [
    "# qwerty \n",
    "\n",
    "P = list(map(int,input().split()))\n",
    "\n",
    "answer = \"\"\n",
    "for i in P:\n",
    "    answer += chr(ord(\"a\") + i - 1)    # +=による文字列連結は低速、\"\".join()の方が有効。\n",
    "                                       # ans = [chr(ord('a') + x - 1) for x in P]\n",
    "print(answer)                          # print(''.join(ans))\n"
   ]
  },
  {
   "cell_type": "code",
   "execution_count": 30,
   "id": "ef91f4a3-d616-46da-bfaa-568612e58508",
   "metadata": {},
   "outputs": [
    {
     "name": "stdin",
     "output_type": "stream",
     "text": [
      " abcd\n",
      " xyz\n"
     ]
    },
    {
     "name": "stdout",
     "output_type": "stream",
     "text": [
      "axbyczd\n"
     ]
    }
   ],
   "source": [
    "#　 ∵∴∵　　　\n",
    "\n",
    "O = input()       \n",
    "E = input() \n",
    "\n",
    "result = \"\"\n",
    "for i in range(len(O)):\n",
    "    result += O[i]\n",
    "    if i < len(E):\n",
    "        result += E[i]\n",
    "\n",
    "print(result) \n",
    "        "
   ]
  },
  {
   "cell_type": "code",
   "execution_count": 19,
   "id": "4e3ec5de-3e3c-493a-8c1c-9275322dcb0e",
   "metadata": {},
   "outputs": [
    {
     "name": "stdin",
     "output_type": "stream",
     "text": [
      " abaababaab\n"
     ]
    },
    {
     "name": "stdout",
     "output_type": "stream",
     "text": [
      "6\n"
     ]
    }
   ],
   "source": [
    "# ss\n",
    "                     \n",
    "S = input()             \n",
    "\n",
    "for i in range(len(S)):\n",
    "    S = S[:-1]\n",
    "    l = len(S)\n",
    "    \n",
    "    if S[:int(l//2)] == S[int(l//2):]:\n",
    "        print(l)\n",
    "        break\n"
   ]
  },
  {
   "cell_type": "code",
   "execution_count": 1,
   "id": "0bdf1d54-2b69-4b2b-8e7f-8a245a6d89cc",
   "metadata": {},
   "outputs": [
    {
     "name": "stdin",
     "output_type": "stream",
     "text": [
      " tokyo\n",
      " kyoto\n"
     ]
    },
    {
     "name": "stdout",
     "output_type": "stream",
     "text": [
      "Yes\n"
     ]
    }
   ],
   "source": [
    "# String Rotation \n",
    "\n",
    "S = input()\n",
    "T = input()\n",
    "\n",
    "for _ in range(len(S)):\n",
    "    S = S[-1] + S[:-1]\n",
    "    if S == T:\n",
    "        print(\"Yes\")\n",
    "        break\n",
    "else:\n",
    "    print(\"No\")\n",
    "        "
   ]
  },
  {
   "cell_type": "code",
   "execution_count": 3,
   "id": "45c157c1-668a-44f0-a47d-e768474fa463",
   "metadata": {},
   "outputs": [
    {
     "name": "stdin",
     "output_type": "stream",
     "text": [
      " abcde\n",
      " acbde\n"
     ]
    },
    {
     "name": "stdout",
     "output_type": "stream",
     "text": [
      "Yes\n"
     ]
    }
   ],
   "source": [
    "# typo   ＊良問\n",
    "\n",
    "def judge():\n",
    "    if S == T:  \n",
    "        return True\n",
    "\n",
    "    N = len(S)\n",
    "    for i in range(N - 1):\n",
    "        L = list(S)  \n",
    "        L[i], L[i + 1] = L[i + 1], L[i]  \n",
    "        S2 = ''.join(L)  \n",
    "        if S2 == T:\n",
    "            return True\n",
    "    return False\n",
    "\n",
    "\n",
    "S = input()\n",
    "T = input()\n",
    "\n",
    "print(\"Yes\" if judge() else \"No\")\n"
   ]
  },
  {
   "cell_type": "code",
   "execution_count": 18,
   "id": "6ac5f16d-f1ee-47eb-ad58-7ea7a657b037",
   "metadata": {},
   "outputs": [
    {
     "name": "stdin",
     "output_type": "stream",
     "text": [
      " 4 3\n"
     ]
    },
    {
     "name": "stdout",
     "output_type": "stream",
     "text": [
      "3333\n"
     ]
    }
   ],
   "source": [
    "# Comparing srings \n",
    "\n",
    "a, b = map(int, input().split())\n",
    "\n",
    "A = str(a)*b\n",
    "B = str(b)*a\n",
    "\n",
    "if a < b:\n",
    "    print(A)\n",
    "else:\n",
    "    print(B) \n",
    "    "
   ]
  },
  {
   "cell_type": "code",
   "execution_count": 21,
   "id": "781ca1e9-f6fb-4365-965a-a5509ed0b9cb",
   "metadata": {},
   "outputs": [
    {
     "name": "stdin",
     "output_type": "stream",
     "text": [
      " ratcode\n",
      " atlas\n"
     ]
    },
    {
     "name": "stdout",
     "output_type": "stream",
     "text": [
      "Yes\n"
     ]
    }
   ],
   "source": [
    "# Two Anagrams \n",
    "\n",
    "s = list(input())\n",
    "t = list(input())\n",
    "\n",
    "s.sort()\n",
    "S = \"\".join(s)\n",
    "\n",
    "t.sort(reverse = True)\n",
    "T = \"\".join(t)\n",
    "\n",
    "if S < T:\n",
    "    print(\"Yes\")\n",
    "else:\n",
    "    print(\"No\")\n",
    "    "
   ]
  }
 ],
 "metadata": {
  "kernelspec": {
   "display_name": "Python 3 (ipykernel)",
   "language": "python",
   "name": "python3"
  },
  "language_info": {
   "codemirror_mode": {
    "name": "ipython",
    "version": 3
   },
   "file_extension": ".py",
   "mimetype": "text/x-python",
   "name": "python",
   "nbconvert_exporter": "python",
   "pygments_lexer": "ipython3",
   "version": "3.9.11"
  }
 },
 "nbformat": 4,
 "nbformat_minor": 5
}
