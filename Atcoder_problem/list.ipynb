{
 "cells": [
  {
   "cell_type": "code",
   "execution_count": 2,
   "id": "0c85e1b6-1d7b-4da2-b71a-5b99128bfd71",
   "metadata": {},
   "outputs": [
    {
     "name": "stdin",
     "output_type": "stream",
     "text": [
      " 4 5 \n",
      " 0 5\n",
      " -2 4\n",
      " 3 4\n",
      " 4 -4\n"
     ]
    },
    {
     "name": "stdout",
     "output_type": "stream",
     "text": [
      "3\n"
     ]
    }
   ],
   "source": [
    "# Distance\n",
    "import math\n",
    "\n",
    "N, D = map(int, input().split())\n",
    "\n",
    "counter = 0\n",
    "for i in range(N):\n",
    "    X, Y = map(int, input().split()) \n",
    "    if math.sqrt(X ** 2 + Y ** 2) <= D: \n",
    "        counter += 1\n",
    "\n",
    "print(counter)\n"
   ]
  },
  {
   "cell_type": "code",
   "execution_count": 2,
   "id": "42bd5df2-d6b8-4f80-87ef-054b8e57965e",
   "metadata": {},
   "outputs": [
    {
     "name": "stdin",
     "output_type": "stream",
     "text": [
      " 4 9\n",
      " 3 3 3 3 \n"
     ]
    },
    {
     "name": "stdout",
     "output_type": "stream",
     "text": [
      "3\n"
     ]
    }
   ],
   "source": [
    "# Bounding  \n",
    "\n",
    "N, X = map(int, input().split())\n",
    "L = list(map(int, input().split()))\n",
    "\n",
    "counter = 1\n",
    "posi = 0\n",
    "for i in L:\n",
    "    posi += i\n",
    "    if posi <= X:\n",
    "        counter += 1\n",
    "        \n",
    "print(counter)\n"
   ]
  },
  {
   "cell_type": "code",
   "execution_count": 3,
   "id": "d9ecdc46-40e9-4d9d-968d-71de01b32a79",
   "metadata": {},
   "outputs": [
    {
     "name": "stdin",
     "output_type": "stream",
     "text": [
      " 3 1000\n",
      " 120 \n",
      " 100\n",
      " 140\n"
     ]
    },
    {
     "name": "stdout",
     "output_type": "stream",
     "text": [
      "9\n"
     ]
    }
   ],
   "source": [
    "# Bitter Alchemy   \n",
    "\n",
    "N, X = map(int, input().split())\n",
    "\n",
    "m = []\n",
    "for i in range(N):\n",
    "    m.append(int(input()))\n",
    "rem = X - sum(m)\n",
    "min_m = min(m)\n",
    "plus = rem // min_m\n",
    "result = N + plus\n",
    "\n",
    "print(result)\n",
    "        "
   ]
  },
  {
   "cell_type": "code",
   "execution_count": 11,
   "id": "2172d9b9-8394-4006-b9dd-2e03bc769867",
   "metadata": {},
   "outputs": [
    {
     "name": "stdin",
     "output_type": "stream",
     "text": [
      " 5 \n",
      " 4 5 3 5 4\n"
     ]
    },
    {
     "name": "stdout",
     "output_type": "stream",
     "text": [
      "3\n"
     ]
    }
   ],
   "source": [
    "# Great Ocean View \n",
    "\n",
    "N = int(input())\n",
    "H = list(map(int, input().split()))  # 6 5 6 8\n",
    "\n",
    "counter = 0\n",
    "for i in range(N):\n",
    "    if(max(H[0:i+1]) == H[i]):\n",
    "        counter += 1\n",
    "\n",
    "print(counter)\n",
    "        "
   ]
  },
  {
   "cell_type": "code",
   "execution_count": 16,
   "id": "3ce3a93a-fb92-459f-97d5-babf0ef0c882",
   "metadata": {},
   "outputs": [
    {
     "name": "stdin",
     "output_type": "stream",
     "text": [
      " 3\n",
      " a 1000\n",
      " b 2000\n",
      " c 3000\n"
     ]
    },
    {
     "name": "stdout",
     "output_type": "stream",
     "text": [
      "b\n"
     ]
    }
   ],
   "source": [
    "# Do you know the second highest mountain?  \n",
    "\n",
    "N = int(input())\n",
    "\n",
    "ST = []\n",
    "for i in range(N):\n",
    "    S, T = input().split()\n",
    "    T = int(T)\n",
    "    ST.append([S, T])\n",
    "ST = sorted(ST, reverse = True, key=lambda x: x[1])\n",
    " \n",
    "print(ST[1][0])\n"
   ]
  },
  {
   "cell_type": "code",
   "execution_count": 18,
   "id": "7d4d268e-50e5-40f9-977c-5ff53bd9a3d8",
   "metadata": {},
   "outputs": [
    {
     "name": "stdin",
     "output_type": "stream",
     "text": [
      " 3\n",
      " 21 -11\n",
      " 81234 94124 52141\n"
     ]
    },
    {
     "name": "stdout",
     "output_type": "stream",
     "text": [
      "3\n"
     ]
    }
   ],
   "source": [
    "# Palace \n",
    "\n",
    "N = int(input())\n",
    "T, A = map(int, input().split())\n",
    "H = list(map(int, input().split()))\n",
    "\n",
    "TA = []\n",
    "for i in range(N):\n",
    "    dif = T - H[i]*0.006 - A\n",
    "    TA.append(abs(dif))\n",
    "    ans = TA.index(min(TA)) + 1\n",
    "\n",
    "print(ans)\n",
    "    "
   ]
  },
  {
   "cell_type": "code",
   "execution_count": 22,
   "id": "ebcfa2d9-932d-412d-ac18-aadbdfbccb24",
   "metadata": {},
   "outputs": [
    {
     "name": "stdin",
     "output_type": "stream",
     "text": [
      " 5\n",
      " 1 4 5 3 2\n"
     ]
    },
    {
     "name": "stdout",
     "output_type": "stream",
     "text": [
      "Yes\n"
     ]
    }
   ],
   "source": [
    "# Permutation Check\n",
    "\n",
    "N = int(input())\n",
    "A = list(map(int, input().split()))\n",
    "\n",
    "flag = True\n",
    "for i in range(1, N+1):\n",
    "    for j in range(N):\n",
    "        if i == A[j]:\n",
    "            break\n",
    "    else:　  # インデント注意\n",
    "        flag = False\n",
    "        break\n",
    "\n",
    "if flag:\n",
    "    print(\"Yes\")\n",
    "else:\n",
    "    print(\"No\")\n",
    "    "
   ]
  },
  {
   "cell_type": "code",
   "execution_count": 25,
   "id": "052f83d8-a511-4c1a-a90e-221f3e65932e",
   "metadata": {},
   "outputs": [
    {
     "name": "stdin",
     "output_type": "stream",
     "text": [
      " 15 14\n",
      " 50 26 27 21 41 7 42 35 7 5 5 36 39 1 45\n"
     ]
    },
    {
     "name": "stdout",
     "output_type": "stream",
     "text": [
      "386\n"
     ]
    }
   ],
   "source": [
    "# Snake Toy \n",
    "\n",
    "N, K = map(int, input().split())\n",
    "l = list(map(int, input().split()))\n",
    "\n",
    "rod = sorted(l, reverse=True)\n",
    "toy = 0\n",
    "for i in range(K):\n",
    "    toy += rod[i]\n",
    "\n",
    "print(toy)\n",
    "    "
   ]
  },
  {
   "cell_type": "code",
   "execution_count": 27,
   "id": "6e84ad7d-8689-4d56-8ccc-c3fb014aa3c2",
   "metadata": {},
   "outputs": [
    {
     "name": "stdin",
     "output_type": "stream",
     "text": [
      " 6\n",
      " 9 1 4 4 6 7\n"
     ]
    },
    {
     "name": "stdout",
     "output_type": "stream",
     "text": [
      "2\n"
     ]
    }
   ],
   "source": [
    "# Divide the Problems\n",
    "\n",
    "N = int(input())\n",
    "d = list(map(int,input().split()))\n",
    "\n",
    "D = sorted(d)\n",
    "result = D[N//2] - D[N//2-1]\n",
    "\n",
    "print(result)\n"
   ]
  },
  {
   "cell_type": "code",
   "execution_count": 30,
   "id": "a7db55bc-2bae-4857-bcfd-1826e4e7fb31",
   "metadata": {},
   "outputs": [
    {
     "name": "stdin",
     "output_type": "stream",
     "text": [
      " 4 30 \n",
      " 6 18\n",
      " 2 5\n",
      " 3 10\n",
      " 7 9\n"
     ]
    },
    {
     "name": "stdout",
     "output_type": "stream",
     "text": [
      "130\n"
     ]
    }
   ],
   "source": [
    "# Energy Drink Collector \n",
    "\n",
    "N, M = list(map(int,input().split()))\n",
    "\n",
    "st = []\n",
    "result = 0\n",
    "for i in range(N):\n",
    "    A, B = list(map(int,input().split()))\n",
    "    st.append([A, B])\n",
    "st = sorted(st, key=lambda x:x[0])\n",
    "for A, B in st:\n",
    "    if M > B:\n",
    "        M -= B\n",
    "        result += A*B\n",
    "    elif M == B:\n",
    "        result += A*B\n",
    "        break\n",
    "    else:\n",
    "        result += A*M\n",
    "        break\n",
    "\n",
    "print(result)\n",
    "        "
   ]
  }
 ],
 "metadata": {
  "kernelspec": {
   "display_name": "Python 3 (ipykernel)",
   "language": "python",
   "name": "python3"
  },
  "language_info": {
   "codemirror_mode": {
    "name": "ipython",
    "version": 3
   },
   "file_extension": ".py",
   "mimetype": "text/x-python",
   "name": "python",
   "nbconvert_exporter": "python",
   "pygments_lexer": "ipython3",
   "version": "3.9.11"
  }
 },
 "nbformat": 4,
 "nbformat_minor": 5
}
