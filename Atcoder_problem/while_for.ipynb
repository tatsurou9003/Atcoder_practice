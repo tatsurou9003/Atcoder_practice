{
 "cells": [
  {
   "cell_type": "code",
   "execution_count": 2,
   "id": "82155e74-9b09-48f0-b96a-df4be945e2a1",
   "metadata": {},
   "outputs": [
    {
     "name": "stdin",
     "output_type": "stream",
     "text": [
      " 15\n"
     ]
    },
    {
     "name": "stdout",
     "output_type": "stream",
     "text": [
      "60\n"
     ]
    }
   ],
   "source": [
    "# FizzBuzz Sum\n",
    "\n",
    "N = int(input())\n",
    "\n",
    "result = 0\n",
    "for i in range(1, N+1):\n",
    "        if i % 3 == 0 and i % 5 == 0:\n",
    "            continue\n",
    "        elif i % 3 == 0:\n",
    "            continue\n",
    "        elif i % 5 == 0:\n",
    "            continue\n",
    "        else:\n",
    "            result += i\n",
    "\n",
    "print(result)\n",
    "            "
   ]
  },
  {
   "cell_type": "code",
   "execution_count": 9,
   "id": "5f8cead0-94d6-45e2-8d01-43f8a2c1b0c3",
   "metadata": {},
   "outputs": [
    {
     "name": "stdin",
     "output_type": "stream",
     "text": [
      " 12\n"
     ]
    },
    {
     "name": "stdout",
     "output_type": "stream",
     "text": [
      "5\n"
     ]
    }
   ],
   "source": [
    "# Savings\n",
    "\n",
    "N = int(input())\n",
    "\n",
    "money = 0\n",
    "for i in range(10000):\n",
    "    money += i\n",
    "    if money >= N:\n",
    "        print(i)\n",
    "        break\n",
    "        "
   ]
  },
  {
   "cell_type": "code",
   "execution_count": 19,
   "id": "b20bc7a5-4918-4193-a596-fae892230867",
   "metadata": {},
   "outputs": [
    {
     "name": "stdin",
     "output_type": "stream",
     "text": [
      " 1333333333\n"
     ]
    },
    {
     "name": "stdout",
     "output_type": "stream",
     "text": [
      "1706\n"
     ]
    }
   ],
   "source": [
    "# 1%\n",
    "\n",
    "X = int(input())\n",
    "\n",
    "money = 100\n",
    "for i in range(1, X):\n",
    "    money += money // 100\n",
    "    if money >= X:\n",
    "        print(i)  \n",
    "        break\n",
    "        "
   ]
  },
  {
   "cell_type": "code",
   "execution_count": 25,
   "id": "8b40da6e-34bc-46f3-8189-aed670fe6901",
   "metadata": {},
   "outputs": [
    {
     "name": "stdin",
     "output_type": "stream",
     "text": [
      " 8691 20\n"
     ]
    },
    {
     "name": "stdout",
     "output_type": "stream",
     "text": [
      "84875488281\n"
     ]
    }
   ],
   "source": [
    "# 200th ABC-200\n",
    "\n",
    "N, K = map(int, input().split())\n",
    "\n",
    "for i in range(K):\n",
    "    if N % 200 == 0:\n",
    "        N //= 200 \n",
    "        \n",
    "    else:\n",
    "        N = int(str(N) + \"200\")\n",
    "\n",
    "print(N)\n",
    "        "
   ]
  },
  {
   "cell_type": "code",
   "execution_count": 29,
   "id": "d9a5cecf-ebe5-426e-953a-18c9934a1546",
   "metadata": {},
   "outputs": [
    {
     "name": "stdin",
     "output_type": "stream",
     "text": [
      " 10 9 10 10\n"
     ]
    },
    {
     "name": "stdout",
     "output_type": "stream",
     "text": [
      "Yes\n"
     ]
    }
   ],
   "source": [
    "# Battle\n",
    "\n",
    "A, B, C, D = map(int, input().split())\n",
    "\n",
    "Taka = (A + D - 1) // D\n",
    "Aoki = (C + B - 1) // B\n",
    "if Taka >= Aoki:\n",
    "    print(\"Yes\")\n",
    "else:\n",
    "    print(\"No\")\n"
   ]
  },
  {
   "cell_type": "code",
   "execution_count": 33,
   "id": "d5fb0d6a-e226-4070-a156-4e787d0f9f9a",
   "metadata": {},
   "outputs": [
    {
     "name": "stdin",
     "output_type": "stream",
     "text": [
      " 10000000\n"
     ]
    },
    {
     "name": "stdout",
     "output_type": "stream",
     "text": [
      "24\n"
     ]
    }
   ],
   "source": [
    "# Factorial Yen Coin\n",
    "\n",
    "P = int(input())\n",
    "import math\n",
    "\n",
    "ans = 0\n",
    "for i in range(10, 0, -1):\n",
    "    coin = math.factorial(i)\n",
    "    \n",
    "    while coin <= P:\n",
    "        ans += 1\n",
    "        P -= coin\n",
    "        \n",
    "print(ans)\n"
   ]
  },
  {
   "cell_type": "code",
   "execution_count": 34,
   "id": "81acddb5-c9e0-435f-951c-2ae1a61810d0",
   "metadata": {},
   "outputs": [
    {
     "name": "stdin",
     "output_type": "stream",
     "text": [
      " 3 8 2\n"
     ]
    },
    {
     "name": "stdout",
     "output_type": "stream",
     "text": [
      "3\n",
      "4\n",
      "7\n",
      "8\n"
     ]
    }
   ],
   "source": [
    "# Small and Large Integers\n",
    "\n",
    "A, B, K = map(int, input().split())\n",
    "\n",
    "if K>=(B-A+1):\n",
    "    for i in range(A, B+1):\n",
    "        print(i)\n",
    "else:\n",
    "    for i in range (A, A+K):\n",
    "        print(i)\n",
    "    for i in range (B-K+1, B+1):\n",
    "        if i>=(A+K):\n",
    "            print(i)\n",
    "            "
   ]
  },
  {
   "cell_type": "code",
   "execution_count": 39,
   "id": "8fec9437-bf94-4ec9-a95e-de0d33b40c5e",
   "metadata": {},
   "outputs": [
    {
     "name": "stdin",
     "output_type": "stream",
     "text": [
      " 2 2\n"
     ]
    },
    {
     "name": "stdout",
     "output_type": "stream",
     "text": [
      "25\n"
     ]
    }
   ],
   "source": [
    "# Tax Increase\n",
    "\n",
    "A, B = map(int, input().split())\n",
    "\n",
    "flug = False\n",
    "for i in range(1, 1001):\n",
    "    if int(i*0.08)==A and int(i*0.1)==B:\n",
    "        print(i)\n",
    "        flug = True\n",
    "        break\n",
    "if not flug:\n",
    "    print(-1)\n",
    "    "
   ]
  },
  {
   "cell_type": "code",
   "execution_count": 40,
   "id": "1b2844ea-7e25-4a48-99f0-2e775dece43a",
   "metadata": {},
   "outputs": [
    {
     "name": "stdin",
     "output_type": "stream",
     "text": [
      " 10\n"
     ]
    },
    {
     "name": "stdout",
     "output_type": "stream",
     "text": [
      "8\n"
     ]
    }
   ],
   "source": [
    "# Break Number \n",
    "\n",
    "N = int(input())\n",
    "\n",
    "number = 0\n",
    "for i in range(N):\n",
    "    if 2**i <= N:\n",
    "        number = 2**i\n",
    "\n",
    "print(number)\n",
    "        "
   ]
  },
  {
   "cell_type": "code",
   "execution_count": 43,
   "id": "dc1db1b6-e37c-4b39-888f-4d4829a696dc",
   "metadata": {},
   "outputs": [
    {
     "name": "stdin",
     "output_type": "stream",
     "text": [
      " 31415 92653\n"
     ]
    },
    {
     "name": "stdout",
     "output_type": "stream",
     "text": [
      "612\n"
     ]
    }
   ],
   "source": [
    "# Palindoromic Number\n",
    "\n",
    "A, B = map(int, input().split())\n",
    "\n",
    "counter = 0\n",
    "for i in range(A, B + 1):\n",
    "    i = str(i)\n",
    "    s = list(i)\n",
    "    if s[0] == s[4] and s[1] == s[3]:\n",
    "        counter += 1\n",
    "\n",
    "print(counter)\n",
    "    "
   ]
  },
  {
   "cell_type": "code",
   "execution_count": 44,
   "id": "14f586b7-ac11-4cff-8d61-8f5430e4e69b",
   "metadata": {},
   "outputs": [
    {
     "name": "stdin",
     "output_type": "stream",
     "text": [
      " 7\n",
      " 123 456\n"
     ]
    },
    {
     "name": "stdout",
     "output_type": "stream",
     "text": [
      "15642\n"
     ]
    }
   ],
   "source": [
    "# Base K \n",
    "\n",
    "K = int(input())\n",
    "A, B = map(int, input().split())\n",
    "\n",
    "A_10 = int(str(A), K)\n",
    "B_10 = int(str(B), K)\n",
    "result = A_10 * B_10\n",
    "\n",
    "print(result)\n"
   ]
  }
 ],
 "metadata": {
  "kernelspec": {
   "display_name": "Python 3 (ipykernel)",
   "language": "python",
   "name": "python3"
  },
  "language_info": {
   "codemirror_mode": {
    "name": "ipython",
    "version": 3
   },
   "file_extension": ".py",
   "mimetype": "text/x-python",
   "name": "python",
   "nbconvert_exporter": "python",
   "pygments_lexer": "ipython3",
   "version": "3.9.11"
  }
 },
 "nbformat": 4,
 "nbformat_minor": 5
}
