{
 "cells": [
  {
   "cell_type": "code",
   "execution_count": 2,
   "id": "df9cb003-32d4-49fb-898f-ff0ec6a96a49",
   "metadata": {},
   "outputs": [
    {
     "name": "stdin",
     "output_type": "stream",
     "text": [
      " 9 45000\n"
     ]
    },
    {
     "name": "stdout",
     "output_type": "stream",
     "text": [
      "0 9 0\n"
     ]
    }
   ],
   "source": [
    "# 例題11\n",
    "\n",
    "N, Y = map(int, input().split())\n",
    "\n",
    "are, bre, cre = -1, -1, -1\n",
    "\n",
    "for a in range(N+1):\n",
    "    for b in range(N+1):\n",
    "        c = N - a - b\n",
    "        \n",
    "        if c < 0:\n",
    "            continue\n",
    "        \n",
    "        if 10000*a + 5000*b + 1000*c == Y:\n",
    "            are, bre, cre = a, b, c\n",
    "            break\n",
    "    else:\n",
    "        continue\n",
    "    break\n",
    "\n",
    "print(are, bre, cre)\n"
   ]
  },
  {
   "cell_type": "code",
   "execution_count": 3,
   "id": "45b9cab1-9429-45c6-a02e-01e92ec8a337",
   "metadata": {},
   "outputs": [
    {
     "name": "stdin",
     "output_type": "stream",
     "text": [
      " 4\n",
      " 10\n",
      " 8\n",
      " 8\n",
      " 6\n"
     ]
    },
    {
     "name": "stdout",
     "output_type": "stream",
     "text": [
      "3\n"
     ]
    }
   ],
   "source": [
    "# 例題12\n",
    "\n",
    "N = int(input())\n",
    "\n",
    "M = 101\n",
    "exist = [0] * M\n",
    "for _ in range(N):\n",
    "    d = int(input())\n",
    "    \n",
    "    exist[d] = 1\n",
    "\n",
    "print(sum(exist))\n"
   ]
  },
  {
   "cell_type": "code",
   "execution_count": 14,
   "id": "f9be09de-fab4-417b-9a96-67edadb81d19",
   "metadata": {},
   "outputs": [
    {
     "name": "stdin",
     "output_type": "stream",
     "text": [
      " 3\n",
      " acornistnt\n",
      " oeoo\n",
      " constraint\n"
     ]
    },
    {
     "name": "stdout",
     "output_type": "stream",
     "text": [
      "1\n"
     ]
    }
   ],
   "source": [
    "# 例題13\n",
    "from collections import defaultdict\n",
    "\n",
    "N = int(input())\n",
    "\n",
    "num = defaultdict(int)\n",
    "for _ in range(N):\n",
    "    s = \"\".join(sorted(input()))\n",
    "    num[s] += 1\n",
    "                \n",
    "result = 0\n",
    "for s in num:\n",
    "    n = num[s]\n",
    "    result += n * (n-1) // 2\n",
    "                \n",
    "print(result)\n"
   ]
  },
  {
   "cell_type": "code",
   "execution_count": null,
   "id": "f8072465-291a-417a-b597-79da6c2e1d3c",
   "metadata": {},
   "outputs": [],
   "source": []
  }
 ],
 "metadata": {
  "kernelspec": {
   "display_name": "Python 3 (ipykernel)",
   "language": "python",
   "name": "python3"
  },
  "language_info": {
   "codemirror_mode": {
    "name": "ipython",
    "version": 3
   },
   "file_extension": ".py",
   "mimetype": "text/x-python",
   "name": "python",
   "nbconvert_exporter": "python",
   "pygments_lexer": "ipython3",
   "version": "3.9.11"
  }
 },
 "nbformat": 4,
 "nbformat_minor": 5
}
